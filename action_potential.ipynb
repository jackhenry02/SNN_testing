{
 "cells": [
  {
   "cell_type": "markdown",
   "id": "5d22f7dc",
   "metadata": {},
   "source": [
    "# Hodgkin - Huxley model"
   ]
  },
  {
   "cell_type": "code",
   "execution_count": null,
   "id": "9db74739",
   "metadata": {},
   "outputs": [
    {
     "ename": "",
     "evalue": "",
     "output_type": "error",
     "traceback": [
      "\u001b[1;31mRunning cells with '.SNN_venv (3.12.7) (Python 3.12.7)' requires the ipykernel package.\n",
      "\u001b[1;31mInstall 'ipykernel' into the Python environment. \n",
      "\u001b[1;31mCommand: '\"/Users/jackhenry/Library/CloudStorage/OneDrive-UniversityofCambridge/IIB Project-MacBook Air/Code_testing/.SNN_venv/bin/python\" -m pip install ipykernel -U --force-reinstall'"
     ]
    }
   ],
   "source": [
    "import numpy as np\n",
    "import matplotlib.pyplot as plt\n",
    "%matplotlib inline"
   ]
  },
  {
   "cell_type": "markdown",
   "id": "431923b3",
   "metadata": {},
   "source": [
    "The Hodgkin Huxley model has 4 differential equations that are coupled with each other:\n",
    "\n",
    "Equation for the voltage dynamics:\n",
    "\n",
    "$$C \\frac{dV}{dt} = - g_\\mathsf{K}(t)(V-E_\\mathsf{K}) - g_\\mathsf{Na}(t)(V-E_\\mathsf{Na}) - g_\\mathsf{Cl}(V-E_\\mathsf{Cl}) + I_\\mathsf{ext}$$\n",
    "\n",
    "\n",
    "Dynamics of the Na and K conductances: \n",
    "$$ g_\\mathsf{K}(t) = \\bar{g}_\\mathsf{K} n^4(t) $$\n",
    "$$ g_\\mathsf{Na}(t) = \\bar{g}_\\mathsf{Na} m^3(t) h(t) $$\n",
    "\n",
    "\n",
    "$$ \\frac{1}{\\alpha_n(V) + \\beta_n(V)} \\frac{dn}{dt} = -n + \\frac{\\alpha_n(V)}{\\alpha_n(V) + \\beta_n(V)} $$\n",
    "\n",
    "$$ \\frac{1}{\\alpha_m + \\beta_m} \\frac{dm}{dt} = -m + \\frac{\\alpha_m}{\\alpha_m + \\beta_m} $$\n",
    "\n",
    "$$ \\frac{1}{\\alpha_h + \\beta_h} \\frac{dh}{dt} = -h + \\frac{\\alpha_h}{\\alpha_h + \\beta_h} $$"
   ]
  },
  {
   "cell_type": "code",
   "execution_count": null,
   "id": "972b17da",
   "metadata": {},
   "outputs": [],
   "source": [
    "# parameters for a typical cortical neuron\n",
    "\n",
    "C = 100E-12 # Farads\n",
    "gCl = 30e-9 # Siemens\n",
    "ECl = -60   # mV\n",
    "EK = -82    # mV\n",
    "ENa = 45    # mV\n",
    "\n",
    "gK_max = 3.6e-6 # Siemens\n",
    "gNa_max = 12e-6 # Siemens\n",
    "\n",
    "alpha_n = lambda v: 0.01*(v+60)/(1-np.exp(-0.1*(v+60)))  # kHz\n",
    "beta_n = lambda v: 0.12*np.exp(-(v+70)/80)\n",
    "\n",
    "alpha_m = lambda v: 0.10*(v+45)/(1-np.exp(-0.1*(v+45)))\n",
    "beta_m = lambda v: 4*np.exp(-(v+70)/18)\n",
    "\n",
    "alpha_h = lambda v: 0.07*np.exp(-0.05*(v+70))\n",
    "beta_h = lambda v: 1/(1+np.exp(-0.1*(v+40)))\n"
   ]
  },
  {
   "cell_type": "markdown",
   "id": "68e5ed8f",
   "metadata": {},
   "source": [
    "Let's visualise $\\tau_x$ and $x_\\infty$ for $x \\in \\{ 'n', 'm', 'h' \\}$: "
   ]
  },
  {
   "cell_type": "code",
   "execution_count": null,
   "id": "b7580771",
   "metadata": {},
   "outputs": [],
   "source": [
    "vs = np.linspace(-100, 50, 500)  # linear range of voltage, 500 bins\n",
    "tau_n = 1/(alpha_n(vs) + beta_n(vs))\n",
    "tau_m = 1/(alpha_m(vs) + beta_m(vs))\n",
    "tau_h = 1/(alpha_h(vs) + beta_h(vs))\n",
    "plt.plot(vs, tau_n)\n",
    "plt.plot(vs, tau_m)\n",
    "plt.plot(vs, tau_h)\n",
    "plt.xlabel(\"membrane voltage (mV)\")\n",
    "plt.ylabel(\"gate time constant (ms)\")"
   ]
  },
  {
   "cell_type": "code",
   "execution_count": null,
   "id": "f7ff9b2a",
   "metadata": {},
   "outputs": [],
   "source": [
    "n_inf = alpha_n(vs)/(alpha_n(vs) + beta_n(vs))\n",
    "m_inf = alpha_m(vs)/(alpha_m(vs) + beta_m(vs))\n",
    "h_inf = alpha_h(vs)/(alpha_h(vs) + beta_h(vs))\n",
    "plt.plot(vs, n_inf)\n",
    "plt.plot(vs, m_inf)\n",
    "plt.plot(vs, h_inf)\n",
    "plt.xlabel(\"membrane voltage (mV)\")\n",
    "plt.ylabel(\"gate steady state\")"
   ]
  },
  {
   "cell_type": "code",
   "execution_count": null,
   "id": "083f5bba",
   "metadata": {},
   "outputs": [],
   "source": [
    "# standard Euler integration of the HH equations\n",
    "# make sure that t is given in ms!\n",
    "# u is an input current in A\n",
    "def hh_integrate(ts, u):\n",
    "    dt = ts[1] - ts[0]  # infer the time step from the time array passed as parameter\n",
    "    T = np.size(ts) # number of time bins\n",
    "    \n",
    "    # initialise the state variables\n",
    "    v0 = -70.6 # mV  (rough estimate of the resting potential of the cell)\n",
    "    n0 = alpha_n(v0)/(alpha_n(v0) + beta_n(v0))\n",
    "    m0 = alpha_m(v0)/(alpha_m(v0) + beta_m(v0))\n",
    "    h0 = alpha_h(v0)/(alpha_h(v0) + beta_h(v0))\n",
    "    \n",
    "    # initialise entire arrays that will store the time evolution of the state vars\n",
    "    v = v0*np.ones(T)\n",
    "    n = n0*np.ones(T)\n",
    "    m = m0*np.ones(T)\n",
    "    h = h0*np.ones(T)\n",
    "    \n",
    "    # loop through time\n",
    "    for t in range(0, T-1):\n",
    "        vt = v[t]\n",
    "        mt = m[t]\n",
    "        nt = n[t]\n",
    "        ht = h[t]\n",
    "        \n",
    "        ut = u(dt*t) # input current given in Amps\n",
    "        \n",
    "        # integrate the voltage equation\n",
    "        # first, compute the conductances\n",
    "        gK = gK_max * (nt**4)        # momentary potassium conductance\n",
    "        gNa = gNa_max * (mt**3) * ht # momentary sodium conductance\n",
    "        new_vt = vt + dt*1e-3/C*(-gK*(vt-EK) - gNa*(vt-ENa) - gCl*(vt-ECl) + ut*1e3)\n",
    "        v[t+1] = new_vt\n",
    "        \n",
    "        # update the gate variables, taking into account the new voltage\n",
    "        n[t+1] = nt + dt*(alpha_n(new_vt) - nt*(alpha_n(new_vt)+beta_n(new_vt)))\n",
    "        m[t+1] = mt + dt*(alpha_m(new_vt) - mt*(alpha_m(new_vt)+beta_m(new_vt)))\n",
    "        h[t+1] = ht + dt*(alpha_h(new_vt) - ht*(alpha_h(new_vt)+beta_h(new_vt)))\n",
    "        \n",
    "    return v, n, m, h\n",
    "    \n"
   ]
  },
  {
   "cell_type": "code",
   "execution_count": null,
   "id": "a4e4b95e",
   "metadata": {},
   "outputs": [],
   "source": [
    "ts = np.linspace(0, 100, 4000)  # 4000 time bins between 0 and 100 ms"
   ]
  },
  {
   "cell_type": "code",
   "execution_count": null,
   "id": "f6c602ed",
   "metadata": {},
   "outputs": [],
   "source": [
    "# input current (Amp)\n",
    "def u(t):\n",
    "    if t<45:\n",
    "        return 0\n",
    "    elif t<50:\n",
    "        return 0.5e-9\n",
    "    else:\n",
    "        return 0"
   ]
  },
  {
   "cell_type": "code",
   "execution_count": null,
   "id": "6580edf6",
   "metadata": {},
   "outputs": [],
   "source": [
    "v, n, m, h = hh_integrate(ts, u)"
   ]
  },
  {
   "cell_type": "code",
   "execution_count": null,
   "id": "84d78673",
   "metadata": {},
   "outputs": [],
   "source": [
    "plt.plot(ts, v)\n",
    "plt.xlabel(\"time (ms)\")\n",
    "plt.ylabel(\"voltage (mV)\")\n",
    "plt.ylim(-90,45)"
   ]
  },
  {
   "cell_type": "code",
   "execution_count": null,
   "id": "d68331d2",
   "metadata": {},
   "outputs": [],
   "source": [
    "plt.plot(ts, n, label='n')\n",
    "plt.plot(ts, m, label='m')\n",
    "plt.plot(ts, h, label='h')\n",
    "plt.xlabel(\"time (ms)\")\n",
    "plt.ylabel(\"gate state\")\n",
    "plt.legend()\n",
    "plt.ylim(0,1)"
   ]
  },
  {
   "cell_type": "code",
   "execution_count": null,
   "id": "expired-berry",
   "metadata": {},
   "outputs": [],
   "source": []
  }
 ],
 "metadata": {
  "kernelspec": {
   "display_name": ".SNN_venv (3.12.7)",
   "language": "python",
   "name": "python3"
  },
  "language_info": {
   "codemirror_mode": {
    "name": "ipython",
    "version": 3
   },
   "file_extension": ".py",
   "mimetype": "text/x-python",
   "name": "python",
   "nbconvert_exporter": "python",
   "pygments_lexer": "ipython3",
   "version": "3.12.7"
  }
 },
 "nbformat": 4,
 "nbformat_minor": 5
}
